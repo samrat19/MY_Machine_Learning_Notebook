{
  "nbformat": 4,
  "nbformat_minor": 0,
  "metadata": {
    "colab": {
      "name": "LinearRegression.ipynb",
      "version": "0.3.2",
      "provenance": [],
      "include_colab_link": true
    },
    "kernelspec": {
      "name": "python3",
      "display_name": "Python 3"
    }
  },
  "cells": [
    {
      "cell_type": "markdown",
      "metadata": {
        "id": "view-in-github",
        "colab_type": "text"
      },
      "source": [
        "<a href=\"https://colab.research.google.com/github/samrat19/MY_Machine_Learning_Notebook/blob/master/LinearRegression.ipynb\" target=\"_parent\"><img src=\"https://colab.research.google.com/assets/colab-badge.svg\" alt=\"Open In Colab\"/></a>"
      ]
    },
    {
      "cell_type": "markdown",
      "metadata": {
        "id": "PBg-Q0emabQ_",
        "colab_type": "text"
      },
      "source": [
        "## Home Price Prediction"
      ]
    },
    {
      "cell_type": "code",
      "metadata": {
        "id": "shP8mOI1aXQR",
        "colab_type": "code",
        "colab": {}
      },
      "source": [
        "import numpy as no\n",
        "import pandas as pd\n",
        "import matplotlib.pyplot as plt\n",
        "from sklearn import linear_model"
      ],
      "execution_count": 0,
      "outputs": []
    },
    {
      "cell_type": "code",
      "metadata": {
        "id": "APFpYVhKEuwm",
        "colab_type": "code",
        "colab": {}
      },
      "source": [
        "data_frame = pd.read_csv('https://raw.githubusercontent.com/samrat19/MY_Machine_Learning_Notebook/master/Homeprice.csv')\n",
        "data_frame"
      ],
      "execution_count": 0,
      "outputs": []
    },
    {
      "cell_type": "code",
      "metadata": {
        "id": "QdEInGDsFNDY",
        "colab_type": "code",
        "colab": {}
      },
      "source": [
        "plt.xlabel('Area(sq ft)')\n",
        "plt.ylabel('Price (US $)')\n",
        "plt.scatter(data_frame.Area , data_frame.Price , color = 'blue')"
      ],
      "execution_count": 0,
      "outputs": []
    },
    {
      "cell_type": "code",
      "metadata": {
        "id": "hZMCualEGbnY",
        "colab_type": "code",
        "colab": {}
      },
      "source": [
        "## creating an Linear Regression object\n",
        "\n",
        "linear_regression  = linear_model.LinearRegression()"
      ],
      "execution_count": 0,
      "outputs": []
    },
    {
      "cell_type": "code",
      "metadata": {
        "id": "p7HDOAlrLO2T",
        "colab_type": "code",
        "colab": {}
      },
      "source": [
        "linear_regression.fit(data_frame[['Area']],data_frame.Price)"
      ],
      "execution_count": 0,
      "outputs": []
    },
    {
      "cell_type": "code",
      "metadata": {
        "id": "8jhrhFHOqS5s",
        "colab_type": "code",
        "colab": {
          "base_uri": "https://localhost:8080/",
          "height": 34
        },
        "outputId": "8cc7dd4f-4f71-4497-d18c-c32c6f60659a"
      },
      "source": [
        "linear_regression.predict([[3300]])"
      ],
      "execution_count": 49,
      "outputs": [
        {
          "output_type": "execute_result",
          "data": {
            "text/plain": [
              "array([628715.75342466])"
            ]
          },
          "metadata": {
            "tags": []
          },
          "execution_count": 49
        }
      ]
    },
    {
      "cell_type": "code",
      "metadata": {
        "id": "cZ5emmAyrwRY",
        "colab_type": "code",
        "colab": {}
      },
      "source": [
        "m = linear_regression.coef_"
      ],
      "execution_count": 0,
      "outputs": []
    },
    {
      "cell_type": "code",
      "metadata": {
        "id": "5UZ39DzOrzm4",
        "colab_type": "code",
        "colab": {}
      },
      "source": [
        "b = linear_regression.intercept_"
      ],
      "execution_count": 0,
      "outputs": []
    },
    {
      "cell_type": "code",
      "metadata": {
        "id": "wVzKrM7Or3OF",
        "colab_type": "code",
        "colab": {
          "base_uri": "https://localhost:8080/",
          "height": 34
        },
        "outputId": "ad3b8381-ba4e-4305-fa46-53f4053da2aa"
      },
      "source": [
        "y = m*3300 + b\n",
        "y"
      ],
      "execution_count": 55,
      "outputs": [
        {
          "output_type": "execute_result",
          "data": {
            "text/plain": [
              "array([628715.75342466])"
            ]
          },
          "metadata": {
            "tags": []
          },
          "execution_count": 55
        }
      ]
    },
    {
      "cell_type": "code",
      "metadata": {
        "id": "1VyTRqELtOJ0",
        "colab_type": "code",
        "colab": {}
      },
      "source": [
        "# will do it after just typing it nonw\n",
        "# use_case = pd.read_csv('')\n",
        "# predict_set = linear_regression.predict(use_case)\n",
        "# use_case['Prices'] = predic_set\n",
        "# use_case.to_csv('Final_Dataser' , index = False)"
      ],
      "execution_count": 0,
      "outputs": []
    },
    {
      "cell_type": "code",
      "metadata": {
        "id": "KEK-0YjBuows",
        "colab_type": "code",
        "colab": {
          "base_uri": "https://localhost:8080/",
          "height": 309
        },
        "outputId": "3aba91c2-293c-4630-96d0-cd37835dfef9"
      },
      "source": [
        "plt.xlabel('Area(sq ft)', fontsize = 20)\n",
        "plt.ylabel('Price (US $)', fontsize = 20)\n",
        "plt.scatter(data_frame.Area , data_frame.Price , color = 'blue')\n",
        "plt.plot(data_frame.Area, linear_regression.predict(data_frame[['Area']]),\n",
        "         color = 'red')"
      ],
      "execution_count": 69,
      "outputs": [
        {
          "output_type": "execute_result",
          "data": {
            "text/plain": [
              "[<matplotlib.lines.Line2D at 0x7f69d6f2ecc0>]"
            ]
          },
          "metadata": {
            "tags": []
          },
          "execution_count": 69
        },
        {
          "output_type": "display_data",
          "data": {
            "image/png": "[encoded data removed]",
            "text/plain": [
              "<Figure size 432x288 with 1 Axes>"
            ]
          },
          "metadata": {
            "tags": []
          }
        }
      ]
    },
    {
      "cell_type": "code",
      "metadata": {
        "id": "54nBGzKsyQsQ",
        "colab_type": "code",
        "colab": {}
      },
      "source": [
        "#doing some exercises with canada income dataset\n",
        "\n",
        "exercise_data_frame = pd.read_csv('https://raw.githubusercontent.com/samrat19/MY_Machine_Learning_Notebook/master/convertcsv.csv')"
      ],
      "execution_count": 0,
      "outputs": []
    },
    {
      "cell_type": "code",
      "metadata": {
        "id": "OgaTB9U11dxr",
        "colab_type": "code",
        "colab": {}
      },
      "source": [
        "exercise_data_frame"
      ],
      "execution_count": 0,
      "outputs": []
    },
    {
      "cell_type": "code",
      "metadata": {
        "id": "cwBwN6D7yshG",
        "colab_type": "code",
        "colab": {}
      },
      "source": [
        "exercise_linear_regression = linear_model.LinearRegression()"
      ],
      "execution_count": 0,
      "outputs": []
    },
    {
      "cell_type": "code",
      "metadata": {
        "id": "NdbM2dzPy6B_",
        "colab_type": "code",
        "colab": {}
      },
      "source": [
        "exercise_linear_regression.fit(exercise_data_frame[['year']],exercise_data_frame.income)"
      ],
      "execution_count": 0,
      "outputs": []
    },
    {
      "cell_type": "code",
      "metadata": {
        "id": "c4-Qz8893-Mz",
        "colab_type": "code",
        "colab": {
          "base_uri": "https://localhost:8080/",
          "height": 34
        },
        "outputId": "22873ced-13c7-4d3e-f3b3-d0576cece500"
      },
      "source": [
        "exercise_linear_regression.predict([[2020]])"
      ],
      "execution_count": 94,
      "outputs": [
        {
          "output_type": "execute_result",
          "data": {
            "text/plain": [
              "array([41288.69409442])"
            ]
          },
          "metadata": {
            "tags": []
          },
          "execution_count": 94
        }
      ]
    },
    {
      "cell_type": "code",
      "metadata": {
        "id": "Vbk9vvKr4Jfd",
        "colab_type": "code",
        "colab": {}
      },
      "source": [
        "m1 = exercise_linear_regression.coef_"
      ],
      "execution_count": 0,
      "outputs": []
    },
    {
      "cell_type": "code",
      "metadata": {
        "id": "MGtPbxFk4RPr",
        "colab_type": "code",
        "colab": {}
      },
      "source": [
        "b1 = exercise_linear_regression.intercept_"
      ],
      "execution_count": 0,
      "outputs": []
    },
    {
      "cell_type": "code",
      "metadata": {
        "id": "eBTZl-4e4gOG",
        "colab_type": "code",
        "colab": {
          "base_uri": "https://localhost:8080/",
          "height": 34
        },
        "outputId": "43997f06-23a9-4253-c651-82ec8a0851b8"
      },
      "source": [
        "y1 = m1 * 2020 + b1\n",
        "y1"
      ],
      "execution_count": 102,
      "outputs": [
        {
          "output_type": "execute_result",
          "data": {
            "text/plain": [
              "array([41288.69409442])"
            ]
          },
          "metadata": {
            "tags": []
          },
          "execution_count": 102
        }
      ]
    },
    {
      "cell_type": "code",
      "metadata": {
        "id": "mpfi_j634n9k",
        "colab_type": "code",
        "colab": {
          "base_uri": "https://localhost:8080/",
          "height": 309
        },
        "outputId": "fe652382-81af-42ae-982a-bca35f3b7948"
      },
      "source": [
        "plt.xlabel('Year', fontsize = 20)\n",
        "plt.ylabel('Income', fontsize = 20)\n",
        "plt.scatter(exercise_data_frame.year,exercise_data_frame.income, color = 'red')\n",
        "plt.plot(exercise_data_frame.year, exercise_linear_regression.predict(\n",
        "    exercise_data_frame[['year']]),\n",
        "         color = 'blue')"
      ],
      "execution_count": 107,
      "outputs": [
        {
          "output_type": "execute_result",
          "data": {
            "text/plain": [
              "[<matplotlib.lines.Line2D at 0x7f69e67a3c18>]"
            ]
          },
          "metadata": {
            "tags": []
          },
          "execution_count": 107
        },
        {
          "output_type": "display_data",
          "data": {
            "image/png": "[encoded data removed]",
            "text/plain": [
              "<Figure size 432x288 with 1 Axes>"
            ]
          },
          "metadata": {
            "tags": []
          }
        }
      ]
    }
  ]
}