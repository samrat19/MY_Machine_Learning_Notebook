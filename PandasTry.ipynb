{
  "nbformat": 4,
  "nbformat_minor": 0,
  "metadata": {
    "colab": {
      "name": "PandasTry.ipynb",
      "version": "0.3.2",
      "provenance": [],
      "include_colab_link": true
    },
    "kernelspec": {
      "name": "python3",
      "display_name": "Python 3"
    }
  },
  "cells": [
    {
      "cell_type": "markdown",
      "metadata": {
        "id": "view-in-github",
        "colab_type": "text"
      },
      "source": [
        "<a href=\"https://colab.research.google.com/github/samrat19/learning_pandas/blob/master/PandasTry.ipynb\" target=\"_parent\"><img src=\"https://colab.research.google.com/assets/colab-badge.svg\" alt=\"Open In Colab\"/></a>"
      ]
    },
    {
      "cell_type": "code",
      "metadata": {
        "id": "EqZOdgqXr7uh",
        "colab_type": "code",
        "colab": {}
      },
      "source": [
        "import matplotlib.pyplot as plt"
      ],
      "execution_count": 0,
      "outputs": []
    },
    {
      "cell_type": "code",
      "metadata": {
        "id": "40wf8mO-bHgv",
        "colab_type": "code",
        "colab": {}
      },
      "source": [
        "def check_attendance(data):\n",
        "  import pandas as pd\n",
        "  attendance_df = pd.read_csv(data)\n",
        "  index_dataset = attendance_df.isnull().sum(axis = 1)\n",
        "  data_dict = index_dataset.to_dict()\n",
        "  days_classes = int(input(\"no of classes done: \"))\n",
        "  percentage_benchmark = float(input(\"give percentage: \"))\n",
        "  remove = 100.0 - percentage_benchmark\n",
        "  days = int((days_classes*remove)/100)\n",
        "  d = dict((key , value) for key, value in data_dict.items() if value > days)\n",
        "  list_keys = [keys for keys in d]\n",
        "  final_data = attendance_df.drop(attendance_df.index[list_keys])\n",
        "  return final_data"
      ],
      "execution_count": 0,
      "outputs": []
    },
    {
      "cell_type": "code",
      "metadata": {
        "id": "ODtgUztQj_qN",
        "colab_type": "code",
        "colab": {
          "base_uri": "https://localhost:8080/",
          "height": 50
        },
        "outputId": "d3ed0267-864b-44ef-9de2-2207ef48b3af"
      },
      "source": [
        "ans = check_attendance('https://raw.githubusercontent.com/samrat19/learning_pandas/master/attendance.csv')\n",
        "#ans = check_attendance('https://raw.githubusercontent.com/samrat19/learning_pandas/master/text_data_set.csv')"
      ],
      "execution_count": 140,
      "outputs": [
        {
          "output_type": "stream",
          "text": [
            "no of classes done: 4\n",
            "give percentage: 75\n"
          ],
          "name": "stdout"
        }
      ]
    },
    {
      "cell_type": "code",
      "metadata": {
        "id": "MoRA1ocxucnR",
        "colab_type": "code",
        "colab": {
          "base_uri": "https://localhost:8080/",
          "height": 34
        },
        "outputId": "1516664d-20f0-4036-bb02-dfb98acfd1e9"
      },
      "source": [
        "ans.shape"
      ],
      "execution_count": 141,
      "outputs": [
        {
          "output_type": "execute_result",
          "data": {
            "text/plain": [
              "(54, 8)"
            ]
          },
          "metadata": {
            "tags": []
          },
          "execution_count": 141
        }
      ]
    }
  ]
}