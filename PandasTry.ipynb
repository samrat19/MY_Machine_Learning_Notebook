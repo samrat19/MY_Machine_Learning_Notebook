{
  "nbformat": 4,
  "nbformat_minor": 0,
  "metadata": {
    "colab": {
      "name": "PandasTry.ipynb",
      "version": "0.3.2",
      "provenance": [],
      "include_colab_link": true
    },
    "kernelspec": {
      "name": "python3",
      "display_name": "Python 3"
    }
  },
  "cells": [
    {
      "cell_type": "markdown",
      "metadata": {
        "id": "view-in-github",
        "colab_type": "text"
      },
      "source": [
        "<a href=\"https://colab.research.google.com/github/samrat19/MY_Machine_Learning_Notebook/blob/master/PandasTry.ipynb\" target=\"_parent\"><img src=\"https://colab.research.google.com/assets/colab-badge.svg\" alt=\"Open In Colab\"/></a>"
      ]
    },
    {
      "cell_type": "markdown",
      "metadata": {
        "id": "BJI7RFnmvlwM",
        "colab_type": "text"
      },
      "source": [
        "## Main Attendance Sheet"
      ]
    },
    {
      "cell_type": "code",
      "metadata": {
        "id": "jMBVK7vTvrju",
        "colab_type": "code",
        "colab": {}
      },
      "source": [
        "import pandas as pd\n",
        "\n",
        "main_dataframe = pd.read_csv('https://raw.githubusercontent.com/samrat19/learning_pandas/master/attendance.csv')"
      ],
      "execution_count": 0,
      "outputs": []
    },
    {
      "cell_type": "code",
      "metadata": {
        "id": "40wf8mO-bHgv",
        "colab_type": "code",
        "colab": {}
      },
      "source": [
        "def check_attendance(data):\n",
        "  import pandas as pd\n",
        "  attendance_df = pd.read_csv(data)\n",
        "  index_dataset = attendance_df.isnull().sum(axis = 1)\n",
        "  data_dict = index_dataset.to_dict()\n",
        "  days_classes = int(input(\"no of classes done: \"))\n",
        "  percentage_benchmark = float(input(\"give percentage: \"))\n",
        "  remove = 100.0 - percentage_benchmark\n",
        "  days = int((days_classes*remove)/100)\n",
        "  d = dict((key , value) for key, value in data_dict.items() if value > days)\n",
        "  list_keys = [keys for keys in d]\n",
        "  final_data = attendance_df.drop(attendance_df.index[list_keys])\n",
        "  return final_data"
      ],
      "execution_count": 0,
      "outputs": []
    },
    {
      "cell_type": "code",
      "metadata": {
        "id": "ODtgUztQj_qN",
        "colab_type": "code",
        "colab": {}
      },
      "source": [
        "ans = check_attendance('https://raw.githubusercontent.com/samrat19/learning_pandas/master/attendance.csv')\n",
        "#ans = check_attendance('https://raw.githubusercontent.com/samrat19/learning_pandas/master/text_data_set.csv')"
      ],
      "execution_count": 0,
      "outputs": []
    },
    {
      "cell_type": "markdown",
      "metadata": {
        "id": "J0OvNUwHwHCU",
        "colab_type": "text"
      },
      "source": [
        "## Who came atleast 3 days that means people have attendance with 75%"
      ]
    },
    {
      "cell_type": "code",
      "metadata": {
        "id": "MoRA1ocxucnR",
        "colab_type": "code",
        "colab": {}
      },
      "source": [
        "ans"
      ],
      "execution_count": 0,
      "outputs": []
    },
    {
      "cell_type": "markdown",
      "metadata": {
        "id": "LyjRQDsmwVpi",
        "colab_type": "text"
      },
      "source": [
        "##  Total NUmber of People with 75% attendance"
      ]
    },
    {
      "cell_type": "code",
      "metadata": {
        "id": "rYQFcEpewZR1",
        "colab_type": "code",
        "outputId": "3c10bac5-05f5-4e81-ce00-7aa970890d9b",
        "colab": {
          "base_uri": "https://localhost:8080/",
          "height": 34
        }
      },
      "source": [
        "ans.shape"
      ],
      "execution_count": 10,
      "outputs": [
        {
          "output_type": "execute_result",
          "data": {
            "text/plain": [
              "(54, 8)"
            ]
          },
          "metadata": {
            "tags": []
          },
          "execution_count": 10
        }
      ]
    },
    {
      "cell_type": "code",
      "metadata": {
        "id": "Zrc6gbAfdZFA",
        "colab_type": "code",
        "colab": {}
      },
      "source": [
        "import matplotlib.pyplot as plt\n",
        "\n",
        "# list_1 = (\"day1\",\"day2\",\"day3\",\"day4\")\n",
        "# list_2 = (100,90,60,80) "
      ],
      "execution_count": 0,
      "outputs": []
    },
    {
      "cell_type": "code",
      "metadata": {
        "id": "NpF7g8BKeFIb",
        "colab_type": "code",
        "colab": {
          "base_uri": "https://localhost:8080/",
          "height": 286
        },
        "outputId": "954aa316-afa1-4da5-902b-85608d0ffbd9"
      },
      "source": [
        "plt.bar(list_1,list_2)"
      ],
      "execution_count": 5,
      "outputs": [
        {
          "output_type": "execute_result",
          "data": {
            "text/plain": [
              "<BarContainer object of 4 artists>"
            ]
          },
          "metadata": {
            "tags": []
          },
          "execution_count": 5
        },
        {
          "output_type": "display_data",
          "data": {
            "image/png": "[encoded data removed]",
            "text/plain": [
              "<Figure size 432x288 with 1 Axes>"
            ]
          },
          "metadata": {
            "tags": []
          }
        }
      ]
    },
    {
      "cell_type": "code",
      "metadata": {
        "id": "luJouYbXhqDx",
        "colab_type": "code",
        "colab": {}
      },
      "source": [
        "ans['2nd'].replace(1.0,'P',inplace = True)\n",
        "ans['1st'].replace('p','P',inplace = True)\n",
        "ans['3rd'].replace('p','P',inplace = True)\n",
        "ans['4th'].replace(1.0,'P',inplace = True)"
      ],
      "execution_count": 0,
      "outputs": []
    },
    {
      "cell_type": "code",
      "metadata": {
        "id": "YB2mHmHYkRpD",
        "colab_type": "code",
        "colab": {
          "base_uri": "https://localhost:8080/",
          "height": 286
        },
        "outputId": "abfaa3fe-d96b-40c4-d977-94e123b9fd8e"
      },
      "source": [
        "day1 = main_dataframe['1st'].count()\n",
        "day2 = main_dataframe['2nd'].count()\n",
        "day3 = main_dataframe['3rd'].count()\n",
        "day4 = main_dataframe['4th'].count()\n",
        "\n",
        "list_1 = (\"day1\",\"day2\",\"day3\",\"day4\")\n",
        "ist_2 = (day1,day2,day3,day4)\n",
        "\n",
        "plt.bar(list_1,list_2)"
      ],
      "execution_count": 60,
      "outputs": [
        {
          "output_type": "execute_result",
          "data": {
            "text/plain": [
              "<BarContainer object of 4 artists>"
            ]
          },
          "metadata": {
            "tags": []
          },
          "execution_count": 60
        },
        {
          "output_type": "display_data",
          "data": {
            "image/png": "[encoded data removed]",
            "text/plain": [
              "<Figure size 432x288 with 1 Axes>"
            ]
          },
          "metadata": {
            "tags": []
          }
        }
      ]
    }
  ]
}